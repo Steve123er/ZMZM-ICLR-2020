{
 "cells": [
  {
   "cell_type": "markdown",
   "metadata": {},
   "source": [
    "# 4 Patch Level Color Analysis\n",
    "\n",
    "## 4.1 Imports & Constants"
   ]
  },
  {
   "cell_type": "code",
   "execution_count": 1,
   "metadata": {},
   "outputs": [],
   "source": [
    "import itertools\n",
    "import numpy as np\n",
    "import matplotlib.pyplot as plt\n",
    "import matplotlib.patches as patch\n",
    "\n",
    "from PIL import Image\n",
    "from sklearn import feature_extraction\n",
    "\n",
    "from library import generator\n",
    "\n",
    "%config InlineBackend.figure_format='retina'"
   ]
  },
  {
   "cell_type": "code",
   "execution_count": 2,
   "metadata": {},
   "outputs": [],
   "source": [
    "DUCK = 'images/duck.jpg'"
   ]
  },
  {
   "cell_type": "markdown",
   "metadata": {},
   "source": [
    "## 4.2 Utilities"
   ]
  },
  {
   "cell_type": "code",
   "execution_count": 3,
   "metadata": {},
   "outputs": [],
   "source": [
    "def read_color_image(address):\n",
    "    image = Image.open(address)\n",
    "    pixels = np.array(image)\n",
    "    pixels = pixels.astype(np.float64)\n",
    "    return pixels\n",
    "\n",
    "def to_color_patches(pixels, patch_size):\n",
    "    slices = []\n",
    "    channels = pixels.shape[-1]\n",
    "    for channel in range(channels):\n",
    "        current = pixels[:,:,channel]\n",
    "        shaped_patches = feature_extraction.image.extract_patches_2d(current, patch_size)\n",
    "        patches = np.reshape(shaped_patches, (len(shaped_patches), -1)).T\n",
    "        slices.append(patches)\n",
    "    return np.vstack(slices)\n",
    "\n",
    "def patch_to_image(pixels, patch_size, channels):\n",
    "    channel_patches = np.split(pixels, channels)\n",
    "    for channel in range(channels):\n",
    "        channel_patches[channel] = np.reshape(channel_patches[channel], (patch_size, patch_size))\n",
    "    patch = np.dstack(channel_patches)\n",
    "    return patch\n",
    "\n",
    "def normalize_image(pixels):\n",
    "    pixels = np.maximum(pixels, 0)\n",
    "    pixels = np.minimum(pixels, 255)\n",
    "    return pixels / 255\n",
    "\n",
    "def get_color_patch_index(patch_matrix, snapshot, channels):\n",
    "    slices = []\n",
    "    for channel in range(channels):\n",
    "        slices.append(snapshot[:,:,channel])\n",
    "    target = np.concatenate(slices, axis=None)\n",
    "    for col in range(len(patch_matrix.T)):\n",
    "        current_patch = patch_matrix[:,col]\n",
    "        if (target == current_patch).all():\n",
    "            return col\n",
    "    raise KeyError()"
   ]
  },
  {
   "cell_type": "markdown",
   "metadata": {},
   "source": [
    "## 4.3 Figure Components"
   ]
  },
  {
   "cell_type": "code",
   "execution_count": 4,
   "metadata": {},
   "outputs": [],
   "source": [
    "duck = read_color_image(DUCK)\n",
    "noisy_duck = duck + np.random.normal(scale=20, size=duck.shape)\n",
    "\n",
    "CHANNELS = 3\n",
    "PATCH_SIZE = 8\n",
    "\n",
    "clean_patches = to_color_patches(duck, (PATCH_SIZE, PATCH_SIZE))\n",
    "noisy_patches = to_color_patches(noisy_duck, (PATCH_SIZE, PATCH_SIZE))"
   ]
  },
  {
   "cell_type": "code",
   "execution_count": 10,
   "metadata": {},
   "outputs": [],
   "source": [
    "### HIGHLIGHTED CLEAN DUCK\n",
    "\n",
    "LOCATIONS = [(205, 117), (85, 170), (125, 135)]\n",
    "COLORS = ['red', 'purple', 'blue']\n",
    "\n",
    "fig, ax = plt.subplots(1, figsize=(64, 64))\n",
    "plt.imshow(normalize_image(duck))\n",
    "\n",
    "for location, color in zip(LOCATIONS, COLORS):\n",
    "    rect = patch.Rectangle(\n",
    "        location,\n",
    "        PATCH_SIZE,\n",
    "        PATCH_SIZE,\n",
    "        linewidth=30,\n",
    "        edgecolor=color,\n",
    "        facecolor='none'\n",
    "    )\n",
    "    ax.add_patch(rect)\n",
    "plt.axis('off')\n",
    "fig.savefig('04-highlighted-patches.pdf', bbox_inches='tight')\n",
    "plt.close()"
   ]
  },
  {
   "cell_type": "code",
   "execution_count": 6,
   "metadata": {},
   "outputs": [],
   "source": [
    "### PATCH SNAPSHOTS\n",
    "\n",
    "for index, (location, color) in enumerate(zip(LOCATIONS, COLORS)):\n",
    "    x_start, y_start = location\n",
    "    \n",
    "    clean_snapshot = duck[y_start:y_start + PATCH_SIZE, x_start:x_start + PATCH_SIZE]\n",
    "    fig, ax = plt.subplots(1, figsize=(64, 64))\n",
    "    plt.imshow(normalize_image(clean_snapshot), interpolation='nearest')\n",
    "    plt.axis('off')\n",
    "    fig.savefig(f'04-clean-snapshot-{index}.pdf', bbox_inches='tight')\n",
    "    plt.close()\n",
    "    \n",
    "    noisy_snapshot = noisy_duck[y_start:y_start + PATCH_SIZE, x_start:x_start + PATCH_SIZE]\n",
    "    fig = plt.figure(figsize=(64, 64))\n",
    "    plt.imshow(normalize_image(noisy_snapshot), interpolation='nearest')\n",
    "    plt.axis('off')\n",
    "    fig.savefig(f'04-noisy-snapshot-{index}.pdf', bbox_inches='tight')\n",
    "    plt.close()"
   ]
  },
  {
   "cell_type": "code",
   "execution_count": 7,
   "metadata": {},
   "outputs": [],
   "source": [
    "### SNAPSHOT BASES\n",
    "\n",
    "correct_indices = []\n",
    "for x_start, y_start in LOCATIONS:\n",
    "    clean_snapshot = duck[y_start:y_start + PATCH_SIZE, x_start:x_start + PATCH_SIZE,:]\n",
    "    index = get_color_patch_index(clean_patches, clean_snapshot, CHANNELS)\n",
    "    correct_indices.append(index)"
   ]
  },
  {
   "cell_type": "code",
   "execution_count": 8,
   "metadata": {},
   "outputs": [],
   "source": [
    "ITERATIONS = 100\n",
    "\n",
    "updates = generator.get_dictionary_learning_iterates(clean_patches)\n",
    "clean_dictionary = next(itertools.islice(updates, ITERATIONS, None))\n",
    "clean_dictionary = clean_dictionary.T\n",
    "clean_encoding = clean_dictionary.T @ clean_patches\n",
    "\n",
    "updates = generator.get_dictionary_learning_iterates(noisy_patches)\n",
    "noisy_dictionary = next(itertools.islice(updates, ITERATIONS, None))\n",
    "noisy_dictionary = noisy_dictionary.T\n",
    "noisy_encoding = noisy_dictionary.T @ noisy_patches"
   ]
  },
  {
   "cell_type": "code",
   "execution_count": 9,
   "metadata": {},
   "outputs": [],
   "source": [
    "PACKAGED = [\n",
    "    ('clean', clean_dictionary, clean_encoding),\n",
    "    ('noisy', noisy_dictionary, noisy_encoding)\n",
    "]\n",
    "\n",
    "BASES = 6\n",
    "\n",
    "for index, correct_index in enumerate(correct_indices):\n",
    "    for label, dictionary, encoding in PACKAGED:\n",
    "        patch_coding = encoding[:,correct_index]\n",
    "        patch_coding = np.abs(patch_coding)\n",
    "        \n",
    "        all_indices = list(range(len(patch_coding)))\n",
    "        all_indices.sort(key=lambda num: patch_coding[num], reverse=True)\n",
    "        \n",
    "        fig, axs = plt.subplots(1, BASES, figsize=(60, 10))\n",
    "        plt.subplots_adjust(left=None, right=None, bottom=None, top=None, wspace=0.05, hspace=0.05)\n",
    "        for col, ax in zip(all_indices, axs.flat):\n",
    "            base = dictionary[:,col] * np.sign(encoding[col, correct_index])\n",
    "            base = base - base.min()\n",
    "            base = base / base.max()\n",
    "            base = patch_to_image(base, PATCH_SIZE, CHANNELS)\n",
    "\n",
    "            ax.imshow(base)\n",
    "            ax.axis('off')\n",
    "        plt.plot()\n",
    "        fig.savefig(f'04-patch-{label}-bases-{index}.pdf', bbox_inches='tight')\n",
    "        plt.close()"
   ]
  },
  {
   "cell_type": "code",
   "execution_count": null,
   "metadata": {},
   "outputs": [],
   "source": []
  }
 ],
 "metadata": {
  "kernelspec": {
   "display_name": "Python 3 (ipykernel)",
   "language": "python",
   "name": "python3"
  },
  "language_info": {
   "codemirror_mode": {
    "name": "ipython",
    "version": 3
   },
   "file_extension": ".py",
   "mimetype": "text/x-python",
   "name": "python",
   "nbconvert_exporter": "python",
   "pygments_lexer": "ipython3",
   "version": "3.8.10"
  }
 },
 "nbformat": 4,
 "nbformat_minor": 4
}
