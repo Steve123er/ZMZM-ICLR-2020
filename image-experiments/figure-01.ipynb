{
 "cells": [
  {
   "cell_type": "markdown",
   "metadata": {},
   "source": [
    "# 1 Clean and Noisy Bases\n",
    "\n",
    "## 1.1 Imports & Constants"
   ]
  },
  {
   "cell_type": "code",
   "execution_count": 1,
   "metadata": {},
   "outputs": [],
   "source": [
    "import itertools\n",
    "import numpy as np\n",
    "import matplotlib.pyplot as plt\n",
    "from scipy import stats\n",
    "\n",
    "from PIL import Image\n",
    "from sklearn import feature_extraction\n",
    "\n",
    "from library import generator\n",
    "\n",
    "%config InlineBackend.figure_format='retina'"
   ]
  },
  {
   "cell_type": "code",
   "execution_count": 2,
   "metadata": {},
   "outputs": [],
   "source": [
    "BARABARA = 'images/portillo/barbara.png'\n",
    "\n",
    "COLOR_SCALE = {\n",
    "    'vmin': 0,\n",
    "    'vmax': 255\n",
    "}"
   ]
  },
  {
   "cell_type": "markdown",
   "metadata": {},
   "source": [
    "## 1.2 Utilities"
   ]
  },
  {
   "cell_type": "code",
   "execution_count": 3,
   "metadata": {},
   "outputs": [],
   "source": [
    "def read_image(address):\n",
    "    image = Image.open(address)\n",
    "    # print(image.format, image.size, image.mode)\n",
    "    pixels = np.array(image)\n",
    "    pixels = pixels.astype(np.float64)\n",
    "    return pixels\n",
    "\n",
    "def to_grayscale_patches(pixels, patch_size):\n",
    "    shaped_patches = feature_extraction.image.extract_patches_2d(pixels, patch_size)\n",
    "    patches = np.reshape(shaped_patches, (len(shaped_patches), -1)).T\n",
    "    return patches"
   ]
  },
  {
   "cell_type": "markdown",
   "metadata": {},
   "source": [
    "## 1.3 Figure Components"
   ]
  },
  {
   "cell_type": "code",
   "execution_count": 4,
   "metadata": {},
   "outputs": [],
   "source": [
    "barbara = read_image(BARABARA)\n",
    "noisy_barbara = barbara + np.random.normal(scale=20, size=barbara.shape)"
   ]
  },
  {
   "cell_type": "code",
   "execution_count": 5,
   "metadata": {},
   "outputs": [],
   "source": [
    "### CLEAN BARBARA\n",
    "\n",
    "fig = plt.figure(figsize=(64, 64))\n",
    "plt.imshow(barbara, **COLOR_SCALE, cmap='gray', interpolation='nearest')\n",
    "plt.axis('off')\n",
    "fig.savefig('01-barbara.pdf', bbox_inches='tight')\n",
    "plt.close()"
   ]
  },
  {
   "cell_type": "code",
   "execution_count": 6,
   "metadata": {},
   "outputs": [],
   "source": [
    "### NOISY BARBARA\n",
    "\n",
    "fig = plt.figure(figsize=(64, 64))\n",
    "plt.imshow(noisy_barbara, **COLOR_SCALE, cmap='gray', interpolation='nearest')\n",
    "plt.axis('off')\n",
    "fig.savefig('01-noisy-barbara.pdf', bbox_inches='tight')\n",
    "plt.close()"
   ]
  },
  {
   "cell_type": "code",
   "execution_count": 7,
   "metadata": {},
   "outputs": [],
   "source": [
    "## CLEAN BARABARA BASES\n",
    "\n",
    "ITERATIONS = 100\n",
    "PATCH_SIZE = 16\n",
    "\n",
    "patches = to_grayscale_patches(barbara, (PATCH_SIZE, PATCH_SIZE))\n",
    "updates = generator.get_dictionary_learning_iterates(patches)\n",
    "clean_dictionary = next(itertools.islice(updates, ITERATIONS, None))\n",
    "clean_dictionary = clean_dictionary.T\n",
    "\n",
    "sparse_encoding = clean_dictionary.T @ patches"
   ]
  },
  {
   "cell_type": "code",
   "execution_count": 8,
   "metadata": {},
   "outputs": [],
   "source": [
    "norms = np.abs(sparse_encoding)\n",
    "norms = np.sum(norms, axis=1)\n",
    "all_indices = list(range(len(norms)))\n",
    "all_indices.sort(key=lambda row: norms[row], reverse=True)\n",
    "\n",
    "sum_signs = np.sum(sparse_encoding, axis=1)\n",
    "sum_signs = np.sign(sum_signs)\n",
    "\n",
    "ROWS, COLS = 3, 4\n",
    "\n",
    "fig, axs = plt.subplots(ROWS, COLS, figsize=(64, 48))\n",
    "plt.subplots_adjust(left=None, right=None, bottom=None, top=None, wspace=0.05, hspace=0.05)\n",
    "for index, ax in zip(all_indices, axs.flat):\n",
    "    base = clean_dictionary[:,index] * sum_signs[index]\n",
    "    base = base - base.min()\n",
    "    base = base / base.max() * 255\n",
    "    base = np.reshape(base, (PATCH_SIZE, PATCH_SIZE))\n",
    "    \n",
    "    ax.imshow(base, **COLOR_SCALE, cmap='gray')\n",
    "    ax.axis('off')\n",
    "fig.savefig('01-clean-bases.pdf', bbox_inches='tight')\n",
    "plt.close()"
   ]
  },
  {
   "cell_type": "code",
   "execution_count": 9,
   "metadata": {},
   "outputs": [],
   "source": [
    "## NOISY BARABARA BASES\n",
    "\n",
    "ITERATIONS = 100\n",
    "PATCH_SIZE = 16\n",
    "\n",
    "patches = to_grayscale_patches(noisy_barbara, (PATCH_SIZE, PATCH_SIZE))\n",
    "updates = generator.get_dictionary_learning_iterates(patches)\n",
    "noisy_dictionary = next(itertools.islice(updates, ITERATIONS, None))\n",
    "noisy_dictionary = noisy_dictionary.T\n",
    "\n",
    "sparse_encoding = noisy_dictionary.T @ patches"
   ]
  },
  {
   "cell_type": "code",
   "execution_count": 10,
   "metadata": {},
   "outputs": [],
   "source": [
    "norms = np.abs(sparse_encoding)\n",
    "norms = np.sum(norms, axis=1)\n",
    "all_indices = list(range(len(norms)))\n",
    "all_indices.sort(key=lambda row: norms[row], reverse=True)\n",
    "\n",
    "sum_signs = np.sum(sparse_encoding, axis=1)\n",
    "sum_signs = np.sign(sum_signs)\n",
    "\n",
    "BASES = 12\n",
    "ROWS, COLS = 3, 4\n",
    "\n",
    "fig, axs = plt.subplots(ROWS, COLS, figsize=(64, 48))\n",
    "plt.subplots_adjust(left=None, right=None, bottom=None, top=None, wspace=0.05, hspace=0.05)\n",
    "for index, ax in zip(all_indices, axs.flat):\n",
    "    base = noisy_dictionary[:,index] * sum_signs[index]\n",
    "    base = base - base.min()\n",
    "    base = base / base.max() * 255\n",
    "    base = np.reshape(base, (PATCH_SIZE, PATCH_SIZE))\n",
    "    \n",
    "    ax.imshow(base, **COLOR_SCALE, cmap='gray')\n",
    "    ax.axis('off')\n",
    "fig.savefig('01-noisy-bases.pdf', bbox_inches='tight')\n",
    "plt.close()"
   ]
  },
  {
   "cell_type": "markdown",
   "metadata": {},
   "source": [
    "## 1.4 Statistics"
   ]
  },
  {
   "cell_type": "code",
   "execution_count": 15,
   "metadata": {},
   "outputs": [
    {
     "name": "stdout",
     "output_type": "stream",
     "text": [
      "SNR: 5.869637680053711\n"
     ]
    }
   ],
   "source": [
    "noise_stdev = 20\n",
    "snr_ratio = barbara.mean() / noise_stdev\n",
    "print('SNR:', snr_ratio)"
   ]
  },
  {
   "cell_type": "code",
   "execution_count": 12,
   "metadata": {},
   "outputs": [],
   "source": [
    "TOP_BASES = 20\n",
    "\n",
    "patches = to_grayscale_patches(barbara, (PATCH_SIZE, PATCH_SIZE))\n",
    "encoding = clean_dictionary.T @ patches\n",
    "norms = np.abs(encoding)\n",
    "norms = np.sum(norms, axis=1)\n",
    "clean_priorities = list(range(len(norms)))\n",
    "clean_priorities.sort(key=lambda row: norms[row], reverse=True)\n",
    "\n",
    "patches = to_grayscale_patches(noisy_barbara, (PATCH_SIZE, PATCH_SIZE))\n",
    "encoding = noisy_dictionary.T @ patches\n",
    "norms = np.abs(encoding)\n",
    "norms = np.sum(norms, axis=1)\n",
    "noisy_priorities = list(range(len(norms)))\n",
    "noisy_priorities.sort(key=lambda row: norms[row], reverse=True)"
   ]
  },
  {
   "cell_type": "code",
   "execution_count": 13,
   "metadata": {},
   "outputs": [
    {
     "name": "stdout",
     "output_type": "stream",
     "text": [
      "DescribeResult(nobs=20, minmax=(0.5264167064355807, 0.9999999969023661), mean=0.9023343698525602, variance=0.016450118321649974, skewness=-1.4296036143671533, kurtosis=1.6564477772801363)\n",
      "[0.52641671 0.83651733 0.97899972 0.99856969 1.        ]\n"
     ]
    }
   ],
   "source": [
    "base_angles = np.zeros((TOP_BASES, TOP_BASES))\n",
    "\n",
    "for row in range(TOP_BASES):\n",
    "    for col in range(TOP_BASES):\n",
    "        base_angles[row][col] = np.abs(noisy_dictionary[:,noisy_priorities[row]] @ \\\n",
    "                                       clean_dictionary[:,clean_priorities[col]])\n",
    "        \n",
    "top_angles = []\n",
    "for index in range(TOP_BASES):\n",
    "    top_angles.append(max(base_angles[index]))\n",
    "\n",
    "print(stats.describe(top_angles))\n",
    "values = np.percentile(top_angles, [0, 25, 50, 75, 100])\n",
    "print(values)"
   ]
  },
  {
   "cell_type": "code",
   "execution_count": null,
   "metadata": {},
   "outputs": [],
   "source": []
  }
 ],
 "metadata": {
  "kernelspec": {
   "display_name": "Python 3 (ipykernel)",
   "language": "python",
   "name": "python3"
  },
  "language_info": {
   "codemirror_mode": {
    "name": "ipython",
    "version": 3
   },
   "file_extension": ".py",
   "mimetype": "text/x-python",
   "name": "python",
   "nbconvert_exporter": "python",
   "pygments_lexer": "ipython3",
   "version": "3.8.10"
  }
 },
 "nbformat": 4,
 "nbformat_minor": 4
}
