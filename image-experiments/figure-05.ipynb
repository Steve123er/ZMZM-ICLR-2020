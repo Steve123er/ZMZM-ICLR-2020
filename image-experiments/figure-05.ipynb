{
 "cells": [
  {
   "cell_type": "markdown",
   "metadata": {},
   "source": [
    "# 5 Multi-Image Dictionary\n",
    "\n",
    "## 5.1 Imports & Constants"
   ]
  },
  {
   "cell_type": "code",
   "execution_count": 1,
   "metadata": {},
   "outputs": [
    {
     "name": "stdout",
     "output_type": "stream",
     "text": [
      "Requirement already satisfied: opencv-python in /home/steve/ants/lib/python3.8/site-packages (4.5.5.64)\r\n",
      "Requirement already satisfied: numpy>=1.17.3 in /home/steve/ants/lib/python3.8/site-packages (from opencv-python) (1.22.3)\r\n"
     ]
    }
   ],
   "source": [
    "! pip install opencv-python"
   ]
  },
  {
   "cell_type": "code",
   "execution_count": 2,
   "metadata": {},
   "outputs": [],
   "source": [
    "import itertools\n",
    "import numpy as np\n",
    "import matplotlib.pyplot as plt\n",
    "import cv2\n",
    "\n",
    "from library import generator\n",
    "from cifar10_web import cifar10\n",
    "\n",
    "%config InlineBackend.figure_format='retina'"
   ]
  },
  {
   "cell_type": "markdown",
   "metadata": {},
   "source": [
    "## 5.2 Utilities"
   ]
  },
  {
   "cell_type": "code",
   "execution_count": 3,
   "metadata": {},
   "outputs": [],
   "source": [
    "def patch_to_image(pixels, patch_size, channels):\n",
    "    channel_patches = np.split(pixels, channels)\n",
    "    for channel in range(channels):\n",
    "        channel_patches[channel] = np.reshape(channel_patches[channel], (patch_size, patch_size))\n",
    "    patch = np.dstack(channel_patches)\n",
    "    return patch"
   ]
  },
  {
   "cell_type": "markdown",
   "metadata": {},
   "source": [
    "## 5.3 Figure Components"
   ]
  },
  {
   "cell_type": "code",
   "execution_count": 4,
   "metadata": {},
   "outputs": [],
   "source": [
    "import os\n",
    "firstFile=os.listdir(\"Untitled Folder/\")\n",
    "imageFile=cv2.imread(\"Untitled Folder/\"+firstFile[0],0)\n",
    "img=np.zeros((imageFile.shape[0],imageFile.shape[1],573))\n",
    "i=0\n",
    "for file_name in os.listdir(\"Untitled Folder/\"):\n",
    "    if file_name.split(\".\")[-1].lower() in {\"jpeg\", \"jpg\", \"png\"}:\n",
    "        img[:,:,i] = cv2.imread(\"Untitled Folder/\" + file_name,0)\n",
    "        i=i+1\n",
    "        \n",
    "        \n",
    "#Crop the img so that the sides are divisible by 8 for 8x8 patches\n",
    "#imgCrop=img[0:8*int(imageFile.shape[1]/8),0:8*int(imageFile.shape[1]/8),:]\n",
    "#split into quadrants\n",
    "imageSize=8*int(imageFile.shape[1]/8)\n",
    "imgCrop=img[:int(imageSize*0.25),0:int(imageSize*0.25),:]"
   ]
  },
  {
   "cell_type": "code",
   "execution_count": 5,
   "metadata": {},
   "outputs": [
    {
     "name": "stdout",
     "output_type": "stream",
     "text": [
      "(36, 36, 573)\n"
     ]
    }
   ],
   "source": [
    "CIFAR_SIZE = 36 #size of the image\n",
    "CIFAR_CHANNELS = 1 #changed from 3 \n",
    "\n",
    "#train_images, train_labels, _, _ = cifar10(path=None)\n",
    "train_images=imgCrop\n",
    "total_images = 573 #len(train_images)\n",
    "print(imgCrop.shape)"
   ]
  },
  {
   "cell_type": "code",
   "execution_count": 6,
   "metadata": {},
   "outputs": [],
   "source": [
    "CHANNELS = 1\n",
    "PATCH_SIZE = 32\n",
    "TOTAL_PATCHES = 10000\n",
    "\n",
    "observations = np.zeros((PATCH_SIZE * PATCH_SIZE * CHANNELS, TOTAL_PATCHES))\n",
    "jj=0\n",
    "for col in range(TOTAL_PATCHES):\n",
    "    image_index = np.random.randint(total_images)\n",
    "    image = patch_to_image(train_images[:,:,image_index], CIFAR_SIZE, CIFAR_CHANNELS)\n",
    "    x_start = np.random.randint(CIFAR_SIZE - PATCH_SIZE)\n",
    "    y_start = np.random.randint(CIFAR_SIZE - PATCH_SIZE)\n",
    "    sample_patch = image[x_start:x_start + PATCH_SIZE, y_start:y_start + PATCH_SIZE,:]\n",
    "    #sample_patch=train_images[:,:,jj]\n",
    "    \n",
    "    slices = []\n",
    "    for channel in range(CHANNELS):\n",
    "        current = sample_patch[:,:]\n",
    "        slices.append(np.ndarray.flatten(current))\n",
    "    observations[:,col] = np.concatenate(slices, axis=None)\n",
    "    #jj=jj+1"
   ]
  },
  {
   "cell_type": "code",
   "execution_count": 7,
   "metadata": {},
   "outputs": [],
   "source": [
    "ITERATIONS = 200\n",
    "#observations=np.reshape(imgCrop[:,:,10].flatten,(360*360,10))\n",
    "updates = generator.get_dictionary_learning_iterates(observations)\n",
    "dictionary = next(itertools.islice(updates, ITERATIONS, None))\n",
    "dictionary = dictionary.T\n",
    "encoding = dictionary.T @ observations"
   ]
  },
  {
   "cell_type": "code",
   "execution_count": 8,
   "metadata": {},
   "outputs": [],
   "source": [
    "### CIFAR BASES\n",
    "\n",
    "#Note only include this if using full\n",
    "#PATCH_SIZE=360\n",
    "\n",
    "norms = np.abs(encoding)\n",
    "norms = np.sum(norms, axis=1)\n",
    "all_indices = list(range(len(norms)))\n",
    "all_indices.sort(key=lambda num: norms[num], reverse=True)\n",
    "\n",
    "sum_signs = np.sum(encoding, axis=1)\n",
    "sum_signs = np.sign(sum_signs)\n",
    "\n",
    "ROWS, COLS = 12, 16\n",
    "\n",
    "fig, axs = plt.subplots(ROWS, COLS, figsize=(64, 48))\n",
    "plt.subplots_adjust(left=None, right=None, bottom=None, top=None, wspace=0.05, hspace=0.05)\n",
    "for index, ax in zip(all_indices[: ROWS * COLS], axs.flat):\n",
    "    base = dictionary[:,index] * sum_signs[index]\n",
    "    base = base - base.min()\n",
    "    base = base / base.max()\n",
    "    base = patch_to_image(base, PATCH_SIZE, CHANNELS)\n",
    "    \n",
    "    ax.imshow(base)\n",
    "    ax.axis('off')\n",
    "fig.savefig('05-Dictionary_Difference_images_upper_left.pdf', bbox_inches='tight')\n",
    "plt.close()"
   ]
  },
  {
   "cell_type": "code",
   "execution_count": null,
   "metadata": {},
   "outputs": [],
   "source": []
  }
 ],
 "metadata": {
  "kernelspec": {
   "display_name": "Python 3 (ipykernel)",
   "language": "python",
   "name": "python3"
  },
  "language_info": {
   "codemirror_mode": {
    "name": "ipython",
    "version": 3
   },
   "file_extension": ".py",
   "mimetype": "text/x-python",
   "name": "python",
   "nbconvert_exporter": "python",
   "pygments_lexer": "ipython3",
   "version": "3.8.10"
  }
 },
 "nbformat": 4,
 "nbformat_minor": 4
}
