{
 "cells": [
  {
   "cell_type": "markdown",
   "metadata": {},
   "source": [
    "# 2 Patch Level Analysis\n",
    "\n",
    "## 2.1 Imports & Constants"
   ]
  },
  {
   "cell_type": "code",
   "execution_count": 1,
   "metadata": {},
   "outputs": [],
   "source": [
    "import itertools\n",
    "import numpy as np\n",
    "import matplotlib.pyplot as plt\n",
    "import matplotlib.patches as patch\n",
    "\n",
    "from PIL import Image\n",
    "from sklearn import feature_extraction\n",
    "\n",
    "from library import generator\n",
    "\n",
    "%config InlineBackend.figure_format='retina'"
   ]
  },
  {
   "cell_type": "code",
   "execution_count": 2,
   "metadata": {},
   "outputs": [],
   "source": [
    "BARABARA = 'images/portillo/barbara.png'\n",
    "\n",
    "COLOR_SCALE = {\n",
    "    'vmin': 0,\n",
    "    'vmax': 255\n",
    "}"
   ]
  },
  {
   "cell_type": "markdown",
   "metadata": {},
   "source": [
    "## 2.2 Utilities"
   ]
  },
  {
   "cell_type": "code",
   "execution_count": 3,
   "metadata": {},
   "outputs": [],
   "source": [
    "def read_image(address):\n",
    "    image = Image.open(address)\n",
    "    # print(image.format, image.size, image.mode)\n",
    "    pixels = np.array(image)\n",
    "    pixels = pixels.astype(np.float64)\n",
    "    return pixels\n",
    "\n",
    "def to_grayscale_patches(pixels, patch_size):\n",
    "    shaped_patches = feature_extraction.image.extract_patches_2d(pixels, patch_size)\n",
    "    patches = np.reshape(shaped_patches, (len(shaped_patches), -1)).T\n",
    "    return patches\n",
    "\n",
    "def get_patch_index(patch_matrix, snapshot):\n",
    "    target = np.ndarray.flatten(snapshot)\n",
    "    for col in range(len(patch_matrix.T)):\n",
    "        current_patch = patch_matrix[:,col]\n",
    "        if (target == current_patch).all():\n",
    "            return col\n",
    "    raise KeyError()"
   ]
  },
  {
   "cell_type": "markdown",
   "metadata": {},
   "source": [
    "## 2.3 Figure Components"
   ]
  },
  {
   "cell_type": "code",
   "execution_count": 4,
   "metadata": {},
   "outputs": [],
   "source": [
    "PATCH_SIZE = 16\n",
    "\n",
    "barbara = read_image(BARABARA)\n",
    "noisy_barbara = barbara + np.random.normal(scale=20, size=barbara.shape)\n",
    "\n",
    "clean_patches = to_grayscale_patches(barbara, (PATCH_SIZE, PATCH_SIZE))\n",
    "noisy_patches = to_grayscale_patches(noisy_barbara, (PATCH_SIZE, PATCH_SIZE))"
   ]
  },
  {
   "cell_type": "code",
   "execution_count": 5,
   "metadata": {},
   "outputs": [],
   "source": [
    "### HIGHLIGHTED CLEAN BARBARA\n",
    "\n",
    "LOCATIONS = [(260, 280), (25, 271), (460, 20)]\n",
    "COLORS = ['red', 'purple', 'blue']\n",
    "\n",
    "fig, ax = plt.subplots(1, figsize=(64, 64))\n",
    "plt.imshow(barbara, **COLOR_SCALE, cmap='gray')\n",
    "\n",
    "for location, color in zip(LOCATIONS, COLORS):\n",
    "    rect = patch.Rectangle(\n",
    "        location,\n",
    "        PATCH_SIZE,\n",
    "        PATCH_SIZE,\n",
    "        linewidth=30,\n",
    "        edgecolor=color,\n",
    "        facecolor='none'\n",
    "    )\n",
    "    ax.add_patch(rect)\n",
    "plt.axis('off')\n",
    "fig.savefig('02-highlighted-patches.pdf', bbox_inches='tight')\n",
    "plt.close()"
   ]
  },
  {
   "cell_type": "code",
   "execution_count": 6,
   "metadata": {},
   "outputs": [],
   "source": [
    "### PATCH SNAPSHOTS\n",
    "\n",
    "for index, (location, color) in enumerate(zip(LOCATIONS, COLORS)):\n",
    "    x_start, y_start = location\n",
    "    \n",
    "    clean_snapshot = barbara[y_start:y_start + PATCH_SIZE, x_start:x_start + PATCH_SIZE]\n",
    "    fig, ax = plt.subplots(1, figsize=(64, 64))\n",
    "    plt.imshow(clean_snapshot, **COLOR_SCALE, cmap='gray', interpolation='nearest')\n",
    "    plt.axis('off')\n",
    "    fig.savefig(f'02-clean-snapshot-{index}.pdf', bbox_inches='tight')\n",
    "    plt.close()\n",
    "    \n",
    "    noisy_snapshot = noisy_barbara[y_start:y_start + PATCH_SIZE, x_start:x_start + PATCH_SIZE]\n",
    "    fig = plt.figure(figsize=(64, 64))\n",
    "    plt.imshow(noisy_snapshot, **COLOR_SCALE, cmap='gray', interpolation='nearest')\n",
    "    plt.axis('off')\n",
    "    fig.savefig(f'02-noisy-snapshot-{index}.pdf', bbox_inches='tight')\n",
    "    plt.close()"
   ]
  },
  {
   "cell_type": "code",
   "execution_count": 7,
   "metadata": {},
   "outputs": [],
   "source": [
    "### SNAPSHOT BASES\n",
    "\n",
    "correct_indices = []\n",
    "for x_start, y_start in LOCATIONS:\n",
    "    clean_snapshot = barbara[y_start:y_start + PATCH_SIZE, x_start:x_start + PATCH_SIZE]\n",
    "    index = get_patch_index(clean_patches, clean_snapshot)\n",
    "    correct_indices.append(index)\n",
    "    \n",
    "ITERATIONS = 100\n",
    "\n",
    "updates = generator.get_dictionary_learning_iterates(clean_patches)\n",
    "clean_dictionary = next(itertools.islice(updates, ITERATIONS, None))\n",
    "clean_dictionary = clean_dictionary.T\n",
    "clean_encoding = clean_dictionary.T @ clean_patches\n",
    "\n",
    "updates = generator.get_dictionary_learning_iterates(noisy_patches)\n",
    "noisy_dictionary = next(itertools.islice(updates, ITERATIONS, None))\n",
    "noisy_dictionary = noisy_dictionary.T\n",
    "noisy_encoding = noisy_dictionary.T @ noisy_patches"
   ]
  },
  {
   "cell_type": "code",
   "execution_count": 8,
   "metadata": {},
   "outputs": [],
   "source": [
    "PACKAGED = [\n",
    "    ('clean', clean_dictionary, clean_encoding),\n",
    "    ('noisy', noisy_dictionary, noisy_encoding)\n",
    "]\n",
    "\n",
    "BASES = 6\n",
    "\n",
    "for index, correct_index in enumerate(correct_indices):\n",
    "    for label, dictionary, encoding in PACKAGED:\n",
    "        patch_coding = encoding[:,correct_index]\n",
    "        patch_coding = np.abs(patch_coding)\n",
    "        \n",
    "        all_indices = list(range(len(patch_coding)))\n",
    "        all_indices.sort(key=lambda num: patch_coding[num], reverse=True)\n",
    "        \n",
    "        fig, axs = plt.subplots(1, BASES, figsize=(60, 10))\n",
    "        plt.subplots_adjust(left=None, right=None, bottom=None, top=None, wspace=0.05, hspace=0.05)\n",
    "        for col, ax in zip(all_indices, axs.flat):\n",
    "            base = dictionary[:,col] * np.sign(encoding[col,correct_index])\n",
    "            base = base - base.min()\n",
    "            base = base / base.max() * 255\n",
    "            base = np.reshape(base, (PATCH_SIZE, PATCH_SIZE))\n",
    "\n",
    "            ax.imshow(base, **COLOR_SCALE, cmap='gray')\n",
    "            ax.axis('off')\n",
    "        fig.savefig(f'02-patch-{label}-bases-{index}.pdf', bbox_inches='tight')\n",
    "        plt.close()"
   ]
  },
  {
   "cell_type": "code",
   "execution_count": null,
   "metadata": {},
   "outputs": [],
   "source": []
  }
 ],
 "metadata": {
  "kernelspec": {
   "display_name": "Python 3 (ipykernel)",
   "language": "python",
   "name": "python3"
  },
  "language_info": {
   "codemirror_mode": {
    "name": "ipython",
    "version": 3
   },
   "file_extension": ".py",
   "mimetype": "text/x-python",
   "name": "python",
   "nbconvert_exporter": "python",
   "pygments_lexer": "ipython3",
   "version": "3.8.10"
  }
 },
 "nbformat": 4,
 "nbformat_minor": 4
}
